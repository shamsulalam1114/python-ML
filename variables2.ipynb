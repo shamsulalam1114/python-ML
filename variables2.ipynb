{
  "nbformat": 4,
  "nbformat_minor": 0,
  "metadata": {
    "colab": {
      "provenance": [],
      "authorship_tag": "ABX9TyP0nhaH5pwf7oLGUEHQ3a3G",
      "include_colab_link": true
    },
    "kernelspec": {
      "name": "python3",
      "display_name": "Python 3"
    },
    "language_info": {
      "name": "python"
    }
  },
  "cells": [
    {
      "cell_type": "markdown",
      "metadata": {
        "id": "view-in-github",
        "colab_type": "text"
      },
      "source": [
        "<a href=\"https://colab.research.google.com/github/shamsulalam1114/python101/blob/main/variables2.ipynb\" target=\"_parent\"><img src=\"https://colab.research.google.com/assets/colab-badge.svg\" alt=\"Open In Colab\"/></a>"
      ]
    },
    {
      "cell_type": "code",
      "execution_count": 11,
      "metadata": {
        "colab": {
          "base_uri": "https://localhost:8080/"
        },
        "id": "0jNYtQvkQQkx",
        "outputId": "db693f96-dbd2-4697-dc59-0db480a15233"
      },
      "outputs": [
        {
          "output_type": "stream",
          "name": "stdout",
          "text": [
            "todays weather is rainy\n",
            "today is a  sunny day\n"
          ]
        }
      ],
      "source": [
        "x = \"sunny\"\n",
        "\n",
        "def myfunc():\n",
        "  x = \"rainy\"\n",
        "  print(\"todays weather is \" + x)\n",
        "myfunc()\n",
        "\n",
        "print(\"today is a  \" + x+\" day\")"
      ]
    },
    {
      "cell_type": "code",
      "source": [
        "x = \"sunny\"\n",
        "def myfunc():\n",
        "  global x\n",
        "  x = \"fantastic\"\n",
        "  print(\"Python is \" + x)\n",
        "\n",
        "myfunc()\n",
        "\n",
        "print(\"today is \" + x)"
      ],
      "metadata": {
        "colab": {
          "base_uri": "https://localhost:8080/"
        },
        "id": "W4CD1vjiRoRp",
        "outputId": "5bd321b5-5f37-40c9-da72-1b8f9c29eb1b"
      },
      "execution_count": 13,
      "outputs": [
        {
          "output_type": "stream",
          "name": "stdout",
          "text": [
            "Python is fantastic\n",
            "today is fantastic\n"
          ]
        }
      ]
    }
  ]
}