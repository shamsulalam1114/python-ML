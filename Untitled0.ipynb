{
  "nbformat": 4,
  "nbformat_minor": 0,
  "metadata": {
    "colab": {
      "provenance": [],
      "authorship_tag": "ABX9TyNJcM/UcszG0A/Yu4kFw64l",
      "include_colab_link": true
    },
    "kernelspec": {
      "name": "python3",
      "display_name": "Python 3"
    },
    "language_info": {
      "name": "python"
    }
  },
  "cells": [
    {
      "cell_type": "markdown",
      "metadata": {
        "id": "view-in-github",
        "colab_type": "text"
      },
      "source": [
        "<a href=\"https://colab.research.google.com/github/shamsulalam1114/python101/blob/main/Untitled0.ipynb\" target=\"_parent\"><img src=\"https://colab.research.google.com/assets/colab-badge.svg\" alt=\"Open In Colab\"/></a>"
      ]
    },
    {
      "cell_type": "code",
      "execution_count": null,
      "metadata": {
        "id": "E-R7HHXt0BHZ"
      },
      "outputs": [],
      "source": [
        "f = open(\"demofile.txt\")"
      ]
    },
    {
      "cell_type": "code",
      "source": [
        "f = open(\"demofile.txt\", \"rt\")"
      ],
      "metadata": {
        "id": "l_m6JRYb0B9D"
      },
      "execution_count": null,
      "outputs": []
    },
    {
      "cell_type": "code",
      "source": [
        "f = open(\"demofile.txt\", \"r\")\n",
        "\n",
        "print(f.read())"
      ],
      "metadata": {
        "id": "1sngrK9L0F3c"
      },
      "execution_count": null,
      "outputs": []
    },
    {
      "cell_type": "code",
      "source": [
        "f = open(\"D:\\\\myfiles\\welcome.txt\", \"r\")\n",
        "\n",
        "print(f.read())\n"
      ],
      "metadata": {
        "id": "oUI-KFGo0HAg"
      },
      "execution_count": null,
      "outputs": []
    },
    {
      "cell_type": "code",
      "source": [
        "with open(\"demofile.txt\", \"a\") as f:\n",
        "  f.write(\"Now the file has more content!\")\n",
        "\n",
        "#open and read the file after the appending:\n",
        "with open(\"demofile.txt\") as f:\n",
        "  print(f.read())"
      ],
      "metadata": {
        "id": "lWET8Pd80IYc"
      },
      "execution_count": null,
      "outputs": []
    },
    {
      "cell_type": "code",
      "source": [
        "with open(\"demofile.txt\", \"w\") as f:\n",
        "  f.write(\"Woops! I have deleted the content!\")\n",
        "\n",
        "#open and read the file after the overwriting:\n",
        "with open(\"demofile.txt\") as f:\n",
        "  print(f.read())\n"
      ],
      "metadata": {
        "id": "wyreWuZ00J5b"
      },
      "execution_count": null,
      "outputs": []
    },
    {
      "cell_type": "code",
      "source": [
        "f = open(\"myfile.txt\", \"x\")"
      ],
      "metadata": {
        "id": "KTGgmOgJ0MKZ"
      },
      "execution_count": null,
      "outputs": []
    },
    {
      "cell_type": "code",
      "source": [
        "import os\n",
        "os.remove(\"demofile.txt\")"
      ],
      "metadata": {
        "id": "8ZhzJenU0Omo"
      },
      "execution_count": null,
      "outputs": []
    },
    {
      "cell_type": "code",
      "source": [
        "import os\n",
        "if os.path.exists(\"demofile.txt\"):\n",
        "  os.remove(\"demofile.txt\")\n",
        "else:\n",
        "  print(\"The file does not exist\")"
      ],
      "metadata": {
        "id": "b8ldaU0r0Prh"
      },
      "execution_count": null,
      "outputs": []
    },
    {
      "cell_type": "code",
      "source": [
        "import os\n",
        "os.rmdir(\"myfolder\")"
      ],
      "metadata": {
        "id": "OLtI6DSs0RU_"
      },
      "execution_count": null,
      "outputs": []
    }
  ]
}