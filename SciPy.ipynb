{
  "nbformat": 4,
  "nbformat_minor": 0,
  "metadata": {
    "colab": {
      "provenance": [],
      "authorship_tag": "ABX9TyPlPb3bNBqLC8u/LdSS1hv1",
      "include_colab_link": true
    },
    "kernelspec": {
      "name": "python3",
      "display_name": "Python 3"
    },
    "language_info": {
      "name": "python"
    }
  },
  "cells": [
    {
      "cell_type": "markdown",
      "metadata": {
        "id": "view-in-github",
        "colab_type": "text"
      },
      "source": [
        "<a href=\"https://colab.research.google.com/github/shamsulalam1114/python101/blob/main/SciPy.ipynb\" target=\"_parent\"><img src=\"https://colab.research.google.com/assets/colab-badge.svg\" alt=\"Open In Colab\"/></a>"
      ]
    },
    {
      "cell_type": "code",
      "execution_count": 1,
      "metadata": {
        "colab": {
          "base_uri": "https://localhost:8080/"
        },
        "id": "tYb96gdF6hd5",
        "outputId": "5bfc9a28-487f-40f5-c2ba-8eec5df05a8e"
      },
      "outputs": [
        {
          "output_type": "stream",
          "name": "stdout",
          "text": [
            "Requirement already satisfied: scipy in /usr/local/lib/python3.11/dist-packages (1.14.1)\n",
            "Requirement already satisfied: numpy<2.3,>=1.23.5 in /usr/local/lib/python3.11/dist-packages (from scipy) (2.0.2)\n"
          ]
        }
      ],
      "source": [
        "pip install scipy"
      ]
    },
    {
      "cell_type": "code",
      "source": [
        "from scipy import constants"
      ],
      "metadata": {
        "id": "xI0L1L1H-8nP"
      },
      "execution_count": 2,
      "outputs": []
    },
    {
      "cell_type": "code",
      "source": [
        "from scipy import constants\n",
        "\n",
        "print(constants.liter)"
      ],
      "metadata": {
        "colab": {
          "base_uri": "https://localhost:8080/"
        },
        "id": "u3yzX2Ft-_VW",
        "outputId": "fb5a7680-023e-426f-8a71-a37175e416e7"
      },
      "execution_count": 3,
      "outputs": [
        {
          "output_type": "stream",
          "name": "stdout",
          "text": [
            "0.001\n"
          ]
        }
      ]
    },
    {
      "cell_type": "code",
      "source": [
        "import scipy\n",
        "\n",
        "print(scipy.__version__)"
      ],
      "metadata": {
        "colab": {
          "base_uri": "https://localhost:8080/"
        },
        "id": "UbsbcL6N_BGh",
        "outputId": "71762346-b376-4eca-9a66-be3466b8a374"
      },
      "execution_count": 4,
      "outputs": [
        {
          "output_type": "stream",
          "name": "stdout",
          "text": [
            "1.14.1\n"
          ]
        }
      ]
    },
    {
      "cell_type": "code",
      "source": [
        "from scipy import constants\n",
        "\n",
        "print(constants.pi)"
      ],
      "metadata": {
        "colab": {
          "base_uri": "https://localhost:8080/"
        },
        "id": "tI2PDIrH_EsW",
        "outputId": "5c90ac16-4ed0-422f-997f-65c6b481c2f0"
      },
      "execution_count": 5,
      "outputs": [
        {
          "output_type": "stream",
          "name": "stdout",
          "text": [
            "3.141592653589793\n"
          ]
        }
      ]
    },
    {
      "cell_type": "code",
      "source": [
        "from scipy import constants\n",
        "\n",
        "print(constants.yotta)\n",
        "print(constants.zetta)\n",
        "print(constants.exa)\n",
        "print(constants.peta)\n",
        "print(constants.tera)\n",
        "print(constants.giga)\n",
        "print(constants.mega)\n",
        "print(constants.kilo)\n",
        "print(constants.hecto)\n",
        "print(constants.deka)\n",
        "print(constants.deci)\n",
        "print(constants.centi)\n",
        "print(constants.milli)\n",
        "print(constants.micro)\n",
        "print(constants.nano)\n",
        "print(constants.pico)\n",
        "print(constants.femto)\n",
        "print(constants.atto)\n",
        "print(constants.zepto)"
      ],
      "metadata": {
        "colab": {
          "base_uri": "https://localhost:8080/"
        },
        "id": "fww3NXCh_Hmq",
        "outputId": "b57a9dd5-3dc4-43dd-9e55-f6b1ad245669"
      },
      "execution_count": 6,
      "outputs": [
        {
          "output_type": "stream",
          "name": "stdout",
          "text": [
            "1e+24\n",
            "1e+21\n",
            "1e+18\n",
            "1000000000000000.0\n",
            "1000000000000.0\n",
            "1000000000.0\n",
            "1000000.0\n",
            "1000.0\n",
            "100.0\n",
            "10.0\n",
            "0.1\n",
            "0.01\n",
            "0.001\n",
            "1e-06\n",
            "1e-09\n",
            "1e-12\n",
            "1e-15\n",
            "1e-18\n",
            "1e-21\n"
          ]
        }
      ]
    },
    {
      "cell_type": "code",
      "source": [
        "from scipy.optimize import root\n",
        "from math import cos\n",
        "\n",
        "def eqn(x):\n",
        "  return x + cos(x)\n",
        "\n",
        "myroot = root(eqn, 0)\n",
        "\n",
        "print(myroot.x)"
      ],
      "metadata": {
        "id": "7znDWqCj_QcZ"
      },
      "execution_count": null,
      "outputs": []
    },
    {
      "cell_type": "code",
      "source": [
        "import tkinter as tk\n",
        "\n",
        "myroot = tk.Tk()\n",
        "print(myroot)\n"
      ],
      "metadata": {
        "colab": {
          "base_uri": "https://localhost:8080/",
          "height": 315
        },
        "id": "8kM4-9Vn_SCb",
        "outputId": "a10b4215-c675-4439-e08a-9f2c1e343f7e"
      },
      "execution_count": 9,
      "outputs": [
        {
          "output_type": "error",
          "ename": "TclError",
          "evalue": "no display name and no $DISPLAY environment variable",
          "traceback": [
            "\u001b[0;31m---------------------------------------------------------------------------\u001b[0m",
            "\u001b[0;31mTclError\u001b[0m                                  Traceback (most recent call last)",
            "\u001b[0;32m<ipython-input-9-ebb253d94f1e>\u001b[0m in \u001b[0;36m<cell line: 0>\u001b[0;34m()\u001b[0m\n\u001b[1;32m      1\u001b[0m \u001b[0;32mimport\u001b[0m \u001b[0mtkinter\u001b[0m \u001b[0;32mas\u001b[0m \u001b[0mtk\u001b[0m\u001b[0;34m\u001b[0m\u001b[0;34m\u001b[0m\u001b[0m\n\u001b[1;32m      2\u001b[0m \u001b[0;34m\u001b[0m\u001b[0m\n\u001b[0;32m----> 3\u001b[0;31m \u001b[0mmyroot\u001b[0m \u001b[0;34m=\u001b[0m \u001b[0mtk\u001b[0m\u001b[0;34m.\u001b[0m\u001b[0mTk\u001b[0m\u001b[0;34m(\u001b[0m\u001b[0;34m)\u001b[0m\u001b[0;34m\u001b[0m\u001b[0;34m\u001b[0m\u001b[0m\n\u001b[0m\u001b[1;32m      4\u001b[0m \u001b[0mprint\u001b[0m\u001b[0;34m(\u001b[0m\u001b[0mmyroot\u001b[0m\u001b[0;34m)\u001b[0m\u001b[0;34m\u001b[0m\u001b[0;34m\u001b[0m\u001b[0m\n",
            "\u001b[0;32m/usr/lib/python3.11/tkinter/__init__.py\u001b[0m in \u001b[0;36m__init__\u001b[0;34m(self, screenName, baseName, className, useTk, sync, use)\u001b[0m\n\u001b[1;32m   2324\u001b[0m                 \u001b[0mbaseName\u001b[0m \u001b[0;34m=\u001b[0m \u001b[0mbaseName\u001b[0m \u001b[0;34m+\u001b[0m \u001b[0mext\u001b[0m\u001b[0;34m\u001b[0m\u001b[0;34m\u001b[0m\u001b[0m\n\u001b[1;32m   2325\u001b[0m         \u001b[0minteractive\u001b[0m \u001b[0;34m=\u001b[0m \u001b[0;32mFalse\u001b[0m\u001b[0;34m\u001b[0m\u001b[0;34m\u001b[0m\u001b[0m\n\u001b[0;32m-> 2326\u001b[0;31m         \u001b[0mself\u001b[0m\u001b[0;34m.\u001b[0m\u001b[0mtk\u001b[0m \u001b[0;34m=\u001b[0m \u001b[0m_tkinter\u001b[0m\u001b[0;34m.\u001b[0m\u001b[0mcreate\u001b[0m\u001b[0;34m(\u001b[0m\u001b[0mscreenName\u001b[0m\u001b[0;34m,\u001b[0m \u001b[0mbaseName\u001b[0m\u001b[0;34m,\u001b[0m \u001b[0mclassName\u001b[0m\u001b[0;34m,\u001b[0m \u001b[0minteractive\u001b[0m\u001b[0;34m,\u001b[0m \u001b[0mwantobjects\u001b[0m\u001b[0;34m,\u001b[0m \u001b[0museTk\u001b[0m\u001b[0;34m,\u001b[0m \u001b[0msync\u001b[0m\u001b[0;34m,\u001b[0m \u001b[0muse\u001b[0m\u001b[0;34m)\u001b[0m\u001b[0;34m\u001b[0m\u001b[0;34m\u001b[0m\u001b[0m\n\u001b[0m\u001b[1;32m   2327\u001b[0m         \u001b[0;32mif\u001b[0m \u001b[0museTk\u001b[0m\u001b[0;34m:\u001b[0m\u001b[0;34m\u001b[0m\u001b[0;34m\u001b[0m\u001b[0m\n\u001b[1;32m   2328\u001b[0m             \u001b[0mself\u001b[0m\u001b[0;34m.\u001b[0m\u001b[0m_loadtk\u001b[0m\u001b[0;34m(\u001b[0m\u001b[0;34m)\u001b[0m\u001b[0;34m\u001b[0m\u001b[0;34m\u001b[0m\u001b[0m\n",
            "\u001b[0;31mTclError\u001b[0m: no display name and no $DISPLAY environment variable"
          ]
        }
      ]
    },
    {
      "cell_type": "code",
      "source": [
        "import numpy as np\n",
        "from scipy.sparse import csr_matrix\n",
        "\n",
        "arr = np.array([0, 0, 0, 0, 0, 1, 1, 0, 2])\n",
        "\n",
        "print(csr_matrix(arr))"
      ],
      "metadata": {
        "id": "aVp0hR_PMNuc"
      },
      "execution_count": null,
      "outputs": []
    },
    {
      "cell_type": "code",
      "source": [
        "import numpy as np\n",
        "from scipy.sparse import csr_matrix\n",
        "\n",
        "arr = np.array([[0, 0, 0], [0, 0, 1], [1, 0, 2]])\n",
        "\n",
        "print(csr_matrix(arr).data)"
      ],
      "metadata": {
        "id": "Rei21F7iMPI5"
      },
      "execution_count": null,
      "outputs": []
    },
    {
      "cell_type": "code",
      "source": [
        "import numpy as np\n",
        "from scipy.sparse import csr_matrix\n",
        "\n",
        "arr = np.array([[0, 0, 0], [0, 0, 1], [1, 0, 2]])\n",
        "\n",
        "print(csr_matrix(arr).count_nonzero())"
      ],
      "metadata": {
        "id": "-yRLYR48MQo6"
      },
      "execution_count": null,
      "outputs": []
    },
    {
      "cell_type": "code",
      "source": [
        "import numpy as np\n",
        "from scipy.sparse import csr_matrix\n",
        "\n",
        "arr = np.array([[0, 0, 0], [0, 0, 1], [1, 0, 2]])\n",
        "\n",
        "mat = csr_matrix(arr)\n",
        "mat.eliminate_zeros()\n",
        "\n",
        "print(mat)"
      ],
      "metadata": {
        "colab": {
          "base_uri": "https://localhost:8080/"
        },
        "id": "VmU2MuL7MR4u",
        "outputId": "912eca88-e115-4567-8b00-3378f7b63cd8"
      },
      "execution_count": 10,
      "outputs": [
        {
          "output_type": "stream",
          "name": "stdout",
          "text": [
            "<Compressed Sparse Row sparse matrix of dtype 'int64'\n",
            "\twith 3 stored elements and shape (3, 3)>\n",
            "  Coords\tValues\n",
            "  (1, 2)\t1\n",
            "  (2, 0)\t1\n",
            "  (2, 2)\t2\n"
          ]
        }
      ]
    },
    {
      "cell_type": "code",
      "source": [
        "import numpy as np\n",
        "from scipy.sparse import csr_matrix\n",
        "\n",
        "arr = np.array([[0, 0, 0], [0, 0, 1], [1, 0, 2]])\n",
        "\n",
        "mat = csr_matrix(arr)\n",
        "mat.sum_duplicates()\n",
        "\n",
        "print(mat)"
      ],
      "metadata": {
        "id": "L1MDgK1rMT1L"
      },
      "execution_count": null,
      "outputs": []
    },
    {
      "cell_type": "code",
      "source": [
        "import numpy as np\n",
        "from scipy.sparse import csr_matrix\n",
        "\n",
        "arr = np.array([[0, 0, 0], [0, 0, 1], [1, 0, 2]])\n",
        "\n",
        "newarr = csr_matrix(arr).tocsc()\n",
        "\n",
        "print(newarr)"
      ],
      "metadata": {
        "id": "uVqFNdZNMU1W"
      },
      "execution_count": null,
      "outputs": []
    },
    {
      "cell_type": "code",
      "source": [
        "import numpy as np\n",
        "from scipy.sparse.csgraph import connected_components\n",
        "from scipy.sparse import csr_matrix\n",
        "\n",
        "arr = np.array([\n",
        "  [0, 1, 2],\n",
        "  [1, 0, 0],\n",
        "  [2, 0, 0]\n",
        "])\n",
        "\n",
        "newarr = csr_matrix(arr)\n",
        "\n",
        "print(connected_components(newarr))"
      ],
      "metadata": {
        "colab": {
          "base_uri": "https://localhost:8080/"
        },
        "id": "h3DsZOWNMWm1",
        "outputId": "fb66c97a-48ec-479e-9a18-014a91523027"
      },
      "execution_count": 11,
      "outputs": [
        {
          "output_type": "stream",
          "name": "stdout",
          "text": [
            "(1, array([0, 0, 0], dtype=int32))\n"
          ]
        }
      ]
    },
    {
      "cell_type": "code",
      "source": [
        "import numpy as np\n",
        "from scipy.spatial import ConvexHull\n",
        "import matplotlib.pyplot as plt\n",
        "\n",
        "points = np.array([\n",
        "  [2, 4],\n",
        "  [3, 4],\n",
        "  [3, 0],\n",
        "  [2, 2],\n",
        "  [4, 1],\n",
        "  [1, 2],\n",
        "  [5, 0],\n",
        "  [3, 1],\n",
        "  [1, 2],\n",
        "  [0, 2]\n",
        "])\n",
        "\n",
        "hull = ConvexHull(points)\n",
        "hull_points = hull.simplices\n",
        "\n",
        "plt.scatter(points[:,0], points[:,1])\n",
        "for simplex in hull_points:\n",
        "  plt.plot(points[simplex,0], points[simplex,1], 'k-')\n",
        "\n",
        "plt.show()"
      ],
      "metadata": {
        "colab": {
          "base_uri": "https://localhost:8080/",
          "height": 430
        },
        "id": "yZhCTcZ9MaK1",
        "outputId": "ebc87cb0-ae08-4631-dbbf-fc494d7239c7"
      },
      "execution_count": 12,
      "outputs": [
        {
          "output_type": "display_data",
          "data": {
            "text/plain": [
              "<Figure size 640x480 with 1 Axes>"
            ],
            "image/png": "[encoded data removed]"
          },
          "metadata": {}
        }
      ]
    },
    {
      "cell_type": "code",
      "source": [
        "from scipy import io\n",
        "import numpy as np\n",
        "\n",
        "arr = np.arange(10)\n",
        "\n",
        "io.savemat('arr.mat', {\"vec\": arr})"
      ],
      "metadata": {
        "id": "Hs9oia8wMcaC"
      },
      "execution_count": null,
      "outputs": []
    },
    {
      "cell_type": "code",
      "source": [
        "from scipy import io\n",
        "import numpy as np\n",
        "\n",
        "arr = np.array([0, 1, 2, 3, 4, 5, 6, 7, 8, 9,])\n",
        "\n",
        "# Export:\n",
        "io.savemat('arr.mat', {\"vec\": arr})\n",
        "\n",
        "# Import:\n",
        "mydata = io.loadmat('arr.mat')\n",
        "\n",
        "print(mydata)"
      ],
      "metadata": {
        "id": "bfdktDEyMdt9"
      },
      "execution_count": null,
      "outputs": []
    },
    {
      "cell_type": "code",
      "source": [
        "from scipy.interpolate import interp1d\n",
        "import numpy as np\n",
        "\n",
        "xs = np.arange(10)\n",
        "ys = 2*xs + 1\n",
        "\n",
        "interp_func = interp1d(xs, ys)\n",
        "\n",
        "newarr = interp_func(np.arange(2.1, 3, 0.1))\n",
        "\n",
        "print(newarr)"
      ],
      "metadata": {
        "id": "nK62ptTiMf4z"
      },
      "execution_count": null,
      "outputs": []
    },
    {
      "cell_type": "code",
      "source": [
        "from scipy.interpolate import UnivariateSpline\n",
        "import numpy as np\n",
        "\n",
        "xs = np.arange(10)\n",
        "ys = xs**2 + np.sin(xs) + 1\n",
        "\n",
        "interp_func = UnivariateSpline(xs, ys)\n",
        "\n",
        "newarr = interp_func(np.arange(2.1, 3, 0.1))\n",
        "\n",
        "print(newarr)"
      ],
      "metadata": {
        "id": "svt1q242MhR6"
      },
      "execution_count": null,
      "outputs": []
    },
    {
      "cell_type": "code",
      "source": [
        "from scipy.optimize import minimize\n",
        "\n",
        "def eqn(x):\n",
        "  return x**2 + x + 2\n",
        "\n",
        "mymin = minimize(eqn, 0, method='BFGS')\n",
        "\n",
        "print(mymin)"
      ],
      "metadata": {
        "colab": {
          "base_uri": "https://localhost:8080/"
        },
        "id": "YiI_RkXR_Xx_",
        "outputId": "781da6be-7578-42b2-e1ab-cb2e05e957b2"
      },
      "execution_count": 8,
      "outputs": [
        {
          "output_type": "stream",
          "name": "stdout",
          "text": [
            "  message: Optimization terminated successfully.\n",
            "  success: True\n",
            "   status: 0\n",
            "      fun: 1.75\n",
            "        x: [-5.000e-01]\n",
            "      nit: 2\n",
            "      jac: [ 0.000e+00]\n",
            " hess_inv: [[ 5.000e-01]]\n",
            "     nfev: 8\n",
            "     njev: 4\n"
          ]
        }
      ]
    }
  ]
}