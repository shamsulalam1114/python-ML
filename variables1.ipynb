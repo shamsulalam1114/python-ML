{
  "nbformat": 4,
  "nbformat_minor": 0,
  "metadata": {
    "colab": {
      "provenance": [],
      "authorship_tag": "ABX9TyMjKSZo6m2HqYptYkdxr7OJ",
      "include_colab_link": true
    },
    "kernelspec": {
      "name": "python3",
      "display_name": "Python 3"
    },
    "language_info": {
      "name": "python"
    }
  },
  "cells": [
    {
      "cell_type": "markdown",
      "metadata": {
        "id": "view-in-github",
        "colab_type": "text"
      },
      "source": [
        "<a href=\"https://colab.research.google.com/github/shamsulalam1114/python101/blob/main/variables1.ipynb\" target=\"_parent\"><img src=\"https://colab.research.google.com/assets/colab-badge.svg\" alt=\"Open In Colab\"/></a>"
      ]
    },
    {
      "cell_type": "code",
      "execution_count": 1,
      "metadata": {
        "colab": {
          "base_uri": "https://localhost:8080/"
        },
        "id": "ls2UREP5MyEH",
        "outputId": "1dd99154-9cbc-42b4-ea32-8260eec9bc47"
      },
      "outputs": [
        {
          "output_type": "stream",
          "name": "stdout",
          "text": [
            "Akash\n",
            "Akash\n",
            "Akash\n",
            "John\n",
            "John\n",
            "John\n"
          ]
        }
      ],
      "source": [
        "myvar = \"Akash\"\n",
        "my_var = \"Akash\"\n",
        "_my_var = \"Akash\"\n",
        "myVar = \"John\"\n",
        "MYVAR = \"John\"\n",
        "myvar2 = \"John\"\n",
        "\n",
        "\n",
        "print(myvar)\n",
        "print(my_var)\n",
        "print(_my_var)\n",
        "print(myVar)\n",
        "print(MYVAR)\n",
        "print(myvar2)\n"
      ]
    },
    {
      "cell_type": "code",
      "source": [
        "x,y,z = \"apple\", \"banana\"  , \"cat\"\n",
        "print(x)\n",
        "print(y)\n",
        "print(z)\n",
        "\n",
        "x=y=z=\"orange\"\n",
        "print(x)\n",
        "print(y)\n",
        "print(z)\n",
        "\n"
      ],
      "metadata": {
        "colab": {
          "base_uri": "https://localhost:8080/"
        },
        "id": "_mbl8zhzNk2f",
        "outputId": "59c8400e-c386-4f70-b024-1121fe663c2c"
      },
      "execution_count": 3,
      "outputs": [
        {
          "output_type": "stream",
          "name": "stdout",
          "text": [
            "apple\n",
            "banana\n",
            "cat\n",
            "orange\n",
            "orange\n",
            "orange\n"
          ]
        }
      ]
    },
    {
      "cell_type": "code",
      "source": [
        "colors = [\"red\", \"green\", \"violate\"]\n",
        "x,y,z= colors\n",
        "print(x)\n",
        "print(y)\n",
        "print(z)"
      ],
      "metadata": {
        "colab": {
          "base_uri": "https://localhost:8080/"
        },
        "id": "BDdLLDUzOrRw",
        "outputId": "a26fab69-5c45-444b-adc4-10af04a66c99"
      },
      "execution_count": 6,
      "outputs": [
        {
          "output_type": "stream",
          "name": "stdout",
          "text": [
            "red\n",
            "green\n",
            "violate\n"
          ]
        }
      ]
    },
    {
      "cell_type": "code",
      "source": [
        "x=\"helo world\\n\"\n",
        "y= \" greet\\n\"\n",
        "z=\" little\"\n",
        "print(x,y,z+\"\\n\")\n",
        "print(\"2nd print\\n\")\n",
        "print(x+\"\\n\"+\"\\n\"+y+\"\\n\"+z)"
      ],
      "metadata": {
        "colab": {
          "base_uri": "https://localhost:8080/"
        },
        "id": "o8E4BF8hO2qm",
        "outputId": "22fde146-a0cb-485a-9b7f-ed6d9dd5e21b"
      },
      "execution_count": 19,
      "outputs": [
        {
          "output_type": "stream",
          "name": "stdout",
          "text": [
            "helo world\n",
            "  greet\n",
            "  little\n",
            "\n",
            "2nd print\n",
            "\n",
            "helo world\n",
            "\n",
            "\n",
            " greet\n",
            "\n",
            " little\n"
          ]
        }
      ]
    },
    {
      "cell_type": "code",
      "source": [
        "x=10\n",
        "y=1.1\n",
        "print(x+y)"
      ],
      "metadata": {
        "colab": {
          "base_uri": "https://localhost:8080/"
        },
        "id": "oCuTqUEMP0uz",
        "outputId": "94d92101-0a6e-4a51-f453-344732f6525a"
      },
      "execution_count": 20,
      "outputs": [
        {
          "output_type": "stream",
          "name": "stdout",
          "text": [
            "11.1\n"
          ]
        }
      ]
    },
    {
      "cell_type": "code",
      "source": [],
      "metadata": {
        "id": "hEJlqPfXQAEV"
      },
      "execution_count": null,
      "outputs": []
    }
  ]
}