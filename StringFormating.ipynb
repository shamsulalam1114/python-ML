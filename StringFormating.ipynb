{
  "nbformat": 4,
  "nbformat_minor": 0,
  "metadata": {
    "colab": {
      "provenance": [],
      "authorship_tag": "ABX9TyOB2XuTGuVgjw6YIIIxaiTB",
      "include_colab_link": true
    },
    "kernelspec": {
      "name": "python3",
      "display_name": "Python 3"
    },
    "language_info": {
      "name": "python"
    }
  },
  "cells": [
    {
      "cell_type": "markdown",
      "metadata": {
        "id": "view-in-github",
        "colab_type": "text"
      },
      "source": [
        "<a href=\"https://colab.research.google.com/github/shamsulalam1114/python101/blob/main/StringFormating.ipynb\" target=\"_parent\"><img src=\"https://colab.research.google.com/assets/colab-badge.svg\" alt=\"Open In Colab\"/></a>"
      ]
    },
    {
      "cell_type": "code",
      "execution_count": null,
      "metadata": {
        "id": "cFCPWAwgzhdz"
      },
      "outputs": [],
      "source": [
        "txt = f\"The price is 49 dollars\"\n",
        "print(txt)"
      ]
    },
    {
      "cell_type": "code",
      "source": [
        "price = 59\n",
        "txt = f\"The price is {price} dollars\"\n",
        "print(txt)"
      ],
      "metadata": {
        "id": "GrM4I0gAzj3V"
      },
      "execution_count": null,
      "outputs": []
    },
    {
      "cell_type": "code",
      "source": [
        "price = 59\n",
        "txt = f\"The price is {price:.2f} dollars\"\n",
        "print(txt)"
      ],
      "metadata": {
        "id": "ODFwwOehzlF1"
      },
      "execution_count": null,
      "outputs": []
    },
    {
      "cell_type": "code",
      "source": [
        "txt = f\"The price is {95:.2f} dollars\"\n",
        "print(txt)"
      ],
      "metadata": {
        "id": "42Rec0MNzmTi"
      },
      "execution_count": null,
      "outputs": []
    },
    {
      "cell_type": "code",
      "source": [
        "txt = f\"The price is {20 * 59} dollars\"\n",
        "print(txt)\n"
      ],
      "metadata": {
        "id": "xHFalBJDznpo"
      },
      "execution_count": null,
      "outputs": []
    },
    {
      "cell_type": "code",
      "source": [
        "price = 59\n",
        "tax = 0.25\n",
        "txt = f\"The price is {price + (price * tax)} dollars\"\n",
        "print(txt)\n"
      ],
      "metadata": {
        "id": "dHFQTDqKzo0a"
      },
      "execution_count": null,
      "outputs": []
    },
    {
      "cell_type": "code",
      "source": [
        "price = 49\n",
        "txt = f\"It is very {'Expensive' if price>50 else 'Cheap'}\"\n",
        "\n",
        "print(txt)\n"
      ],
      "metadata": {
        "id": "jnEy86LRzqOn"
      },
      "execution_count": null,
      "outputs": []
    },
    {
      "cell_type": "code",
      "source": [
        "def myconverter(x):\n",
        "  return x * 0.3048\n",
        "\n",
        "txt = f\"The plane is flying at a {myconverter(30000)} meter altitude\"\n",
        "print(txt)"
      ],
      "metadata": {
        "id": "K0Zsiw5Zzs9b"
      },
      "execution_count": null,
      "outputs": []
    },
    {
      "cell_type": "code",
      "source": [
        "price = 59000\n",
        "txt = f\"The price is {price:,} dollars\"\n",
        "print(txt)\n"
      ],
      "metadata": {
        "id": "t92boAAnzui5"
      },
      "execution_count": null,
      "outputs": []
    },
    {
      "cell_type": "code",
      "source": [
        "quantity = 3\n",
        "itemno = 567\n",
        "price = 49\n",
        "myorder = \"I want {0} pieces of item number {1} for {2:.2f} dollars.\"\n",
        "print(myorder.format(quantity, itemno, price))"
      ],
      "metadata": {
        "id": "t0OSku2tzwlP"
      },
      "execution_count": null,
      "outputs": []
    },
    {
      "cell_type": "code",
      "source": [
        "age = 36\n",
        "name = \"John\"\n",
        "txt = \"His name is {1}. {1} is {0} years old.\"\n",
        "print(txt.format(age, name))\n"
      ],
      "metadata": {
        "id": "CET0aeobzx4h"
      },
      "execution_count": null,
      "outputs": []
    },
    {
      "cell_type": "code",
      "source": [
        "myorder = \"I have a {carname}, it is a {model}.\"\n",
        "print(myorder.format(carname = \"Ford\", model = \"Mustang\"))"
      ],
      "metadata": {
        "id": "3L8p32B_zzRL"
      },
      "execution_count": null,
      "outputs": []
    }
  ]
}