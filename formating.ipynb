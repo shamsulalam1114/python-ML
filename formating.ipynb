{
  "nbformat": 4,
  "nbformat_minor": 0,
  "metadata": {
    "colab": {
      "provenance": [],
      "authorship_tag": "ABX9TyNC0uHC0lldbQTRAGfz/LEC",
      "include_colab_link": true
    },
    "kernelspec": {
      "name": "python3",
      "display_name": "Python 3"
    },
    "language_info": {
      "name": "python"
    }
  },
  "cells": [
    {
      "cell_type": "markdown",
      "metadata": {
        "id": "view-in-github",
        "colab_type": "text"
      },
      "source": [
        "<a href=\"https://colab.research.google.com/github/shamsulalam1114/python101/blob/main/formating.ipynb\" target=\"_parent\"><img src=\"https://colab.research.google.com/assets/colab-badge.svg\" alt=\"Open In Colab\"/></a>"
      ]
    },
    {
      "cell_type": "code",
      "execution_count": 3,
      "metadata": {
        "colab": {
          "base_uri": "https://localhost:8080/"
        },
        "id": "MnycnkamWSz8",
        "outputId": "1cbf75e7-16c5-4a62-fff5-6027d619f1bd"
      },
      "outputs": [
        {
          "output_type": "stream",
          "name": "stdout",
          "text": [
            "my nae is akash and i am 32 years old\n",
            "The price is 59 dollars\n"
          ]
        }
      ],
      "source": [
        "a=32\n",
        "name= f\"my nae is akash and i am {a} years old\"\n",
        "print(name)\n",
        "\n"
      ]
    },
    {
      "cell_type": "code",
      "source": [
        "price = 59\n",
        "txt = f\"The price is {price:.2f} dollars\"\n",
        "print(txt)\n",
        "\n"
      ],
      "metadata": {
        "colab": {
          "base_uri": "https://localhost:8080/"
        },
        "id": "3Bdl6aJzYKr4",
        "outputId": "5c0369f4-94f6-45a8-dd7c-f03a4263d5cc"
      },
      "execution_count": 7,
      "outputs": [
        {
          "output_type": "stream",
          "name": "stdout",
          "text": [
            "The price is 59.00 dollars\n",
            "The price is 1180 dollars\n"
          ]
        }
      ]
    },
    {
      "cell_type": "code",
      "source": [
        "txt = f\"The price is {20 * 59} dollars\"\n",
        "print(txt)"
      ],
      "metadata": {
        "colab": {
          "base_uri": "https://localhost:8080/"
        },
        "id": "lOjJ9D0qYUpG",
        "outputId": "0af82edc-5bc0-4d70-f1fa-39ada37bd8dc"
      },
      "execution_count": 8,
      "outputs": [
        {
          "output_type": "stream",
          "name": "stdout",
          "text": [
            "The price is 1180 dollars\n"
          ]
        }
      ]
    }
  ]
}